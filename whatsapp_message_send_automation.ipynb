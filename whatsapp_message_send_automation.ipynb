{
 "cells": [
  {
   "cell_type": "code",
   "execution_count": null,
   "metadata": {},
   "outputs": [],
   "source": [
    "from selenium import webdriver as wd\n",
    "from selenium.webdriver.common.action_chains import ActionChains\n",
    "\n",
    "driver = wd.Chrome(executable_path=r'C:\\seleniumdriver\\chromedriver.exe')\n",
    "driver.get(\"https://web.whatsapp.com/\")\n",
    "\n",
    "a=driver.find_element_by_xpath('//div[@class=\"_2HE1Z _1aIlm\"]')\n",
    "a.send_keys(\"Nishu\",keys.ENTER)\n",
    "\n",
    "K=driver.find_element_by_xpath('//div[@class=\"_2HE1Z _1hRBM\"]')\n",
    "k.send_keys(\"My task is completed\",keys.ENTER)\n"
   ]
  },
  {
   "cell_type": "markdown",
   "metadata": {},
   "source": [
    "# 2nd method"
   ]
  },
  {
   "cell_type": "code",
   "execution_count": null,
   "metadata": {},
   "outputs": [],
   "source": [
    "from selenium import webdriver as wd\n",
    "from selenium.webdriver.common.action_chains import ActionChains\n",
    "\n",
    "driver = wd.Chrome(executable_path=r'C:\\seleniumdriver\\chromedriver.exe')\n",
    "driver.get(\"https://web.whatsapp.com/\")"
   ]
  },
  {
   "cell_type": "code",
   "execution_count": null,
   "metadata": {},
   "outputs": [],
   "source": [
    "from selenium.webdriver.common.keys import Keys\n",
    "a=driver.find_element_by_xpath('//div[@class=\"_2HE1Z _1aIlm\"]')\n",
    "a.send_keys(\"Nishu\",Keys.ENTER)\n",
    "\n",
    "k=driver.find_element_by_xpath('//div[@class=\"_2HE1Z _1hRBM\"]')\n",
    "k.send_keys(\"My task is completed\",Keys.ENTER)"
   ]
  },
  {
   "cell_type": "code",
   "execution_count": null,
   "metadata": {},
   "outputs": [],
   "source": []
  }
 ],
 "metadata": {
  "kernelspec": {
   "display_name": "Python 3",
   "language": "python",
   "name": "python3"
  },
  "language_info": {
   "codemirror_mode": {
    "name": "ipython",
    "version": 3
   },
   "file_extension": ".py",
   "mimetype": "text/x-python",
   "name": "python",
   "nbconvert_exporter": "python",
   "pygments_lexer": "ipython3",
   "version": "3.6.5"
  }
 },
 "nbformat": 4,
 "nbformat_minor": 4
}
