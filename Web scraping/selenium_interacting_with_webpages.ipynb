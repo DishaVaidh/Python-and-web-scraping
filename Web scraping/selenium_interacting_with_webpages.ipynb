{
 "cells": [
  {
   "cell_type": "code",
   "execution_count": null,
   "metadata": {},
   "outputs": [],
   "source": [
    "from selenium import webdriver as wd\n",
    "driver = wd.Chrome(executable_path=r'C:\\seleniumdriver\\chromedriver.exe')\n",
    "driver.get(\"https://www.amazon.in/ap/signin?openid.pape.max_auth_age=0&openid.return_to=https%3A%2F%2Fwww.amazon.in%2F%3Fie%3DUTF8%26ext_vrnc%3Dhi%26tag%3Dgooghydrabk-21%26ascsubtag%3D_k_CjwKCAiAn7L-BRBbEiwAl9UtkJVeNwgMYq0pz72lSsMB0-bDG_YBPlUXkAqDbnhCUT8WgYBv-X504xoChdIQAvD_BwE_k_%26ext_vrnc%3Dhi%26gclid%3DCjwKCAiAn7L-BRBbEiwAl9UtkJVeNwgMYq0pz72lSsMB0-bDG_YBPlUXkAqDbnhCUT8WgYBv-X504xoChdIQAvD_BwE%26ref_%3Dnav_ya_signin&openid.identity=http%3A%2F%2Fspecs.openid.net%2Fauth%2F2.0%2Fidentifier_select&openid.assoc_handle=inflex&openid.mode=checkid_setup&openid.claimed_id=http%3A%2F%2Fspecs.openid.net%2Fauth%2F2.0%2Fidentifier_select&openid.ns=http%3A%2F%2Fspecs.openid.net%2Fauth%2F2.0&\")\n",
    "a=driver.find_element_by_id(\"ap_email\")\n",
    "a.send_keys(\"8952871621\")"
   ]
  },
  {
   "cell_type": "code",
   "execution_count": 5,
   "metadata": {},
   "outputs": [],
   "source": [
    "a.clear()"
   ]
  },
  {
   "cell_type": "code",
   "execution_count": 6,
   "metadata": {},
   "outputs": [],
   "source": [
    "a.send_keys(\"98736355526\")"
   ]
  },
  {
   "cell_type": "code",
   "execution_count": 2,
   "metadata": {},
   "outputs": [],
   "source": [
    "from selenium import webdriver as wd\n",
    "\n",
    "from selenium.webdriver.common.action_chains import ActionChains\n",
    "\n",
    "driver = wd.Chrome(executable_path=r'C:\\seleniumdriver\\chromedriver.exe')\n",
    "driver.get(\"https://www.amazon.in/ap/signin?openid.pape.max_auth_age=0&openid.return_to=https%3A%2F%2Fwww.amazon.in%2F%3Fie%3DUTF8%26ext_vrnc%3Dhi%26tag%3Dgooghydrabk-21%26ascsubtag%3D_k_CjwKCAiAn7L-BRBbEiwAl9UtkJVeNwgMYq0pz72lSsMB0-bDG_YBPlUXkAqDbnhCUT8WgYBv-X504xoChdIQAvD_BwE_k_%26ext_vrnc%3Dhi%26gclid%3DCjwKCAiAn7L-BRBbEiwAl9UtkJVeNwgMYq0pz72lSsMB0-bDG_YBPlUXkAqDbnhCUT8WgYBv-X504xoChdIQAvD_BwE%26ref_%3Dnav_ya_signin&openid.identity=http%3A%2F%2Fspecs.openid.net%2Fauth%2F2.0%2Fidentifier_select&openid.assoc_handle=inflex&openid.mode=checkid_setup&openid.claimed_id=http%3A%2F%2Fspecs.openid.net%2Fauth%2F2.0%2Fidentifier_select&openid.ns=http%3A%2F%2Fspecs.openid.net%2Fauth%2F2.0&\")\n",
    "a=driver.find_element_by_id(\"ap_email\")\n",
    "a.send_keys(\"8952871621\")\n",
    "k=driver.find_element_by_id(\"continue\")\n",
    "\n",
    "action=ActionChains(driver)\n",
    "action.click(k)\n",
    "action.perform()\n"
   ]
  },
  {
   "cell_type": "code",
   "execution_count": 1,
   "metadata": {},
   "outputs": [],
   "source": [
    "from selenium import webdriver as wd\n",
    "\n",
    "from selenium.webdriver.common.action_chains import ActionChains\n",
    "\n",
    "driver = wd.Chrome(executable_path=r'C:\\seleniumdriver\\chromedriver.exe')\n",
    "driver.get(\"http://www.jnvu.co.in/\")\n",
    "a=driver.find_element_by_id(\"FACULTIES\")\n",
    "\n",
    "action=ActionChains(driver)#object created\n",
    "action.move_to_element(a)#hover\n",
    "k=driver.find_element_by_xpath('//a[@href=\"http://www.jnvu.co.in/department/department-of-accounting/\"]')\n",
    "action.click(k)\n",
    "action.perform()\n"
   ]
  },
  {
   "cell_type": "code",
   "execution_count": null,
   "metadata": {},
   "outputs": [],
   "source": []
  },
  {
   "cell_type": "code",
   "execution_count": null,
   "metadata": {},
   "outputs": [],
   "source": []
  }
 ],
 "metadata": {
  "kernelspec": {
   "display_name": "Python 3",
   "language": "python",
   "name": "python3"
  },
  "language_info": {
   "codemirror_mode": {
    "name": "ipython",
    "version": 3
   },
   "file_extension": ".py",
   "mimetype": "text/x-python",
   "name": "python",
   "nbconvert_exporter": "python",
   "pygments_lexer": "ipython3",
   "version": "3.6.5"
  }
 },
 "nbformat": 4,
 "nbformat_minor": 4
}
