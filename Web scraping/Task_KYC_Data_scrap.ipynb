{
 "cells": [
  {
   "cell_type": "code",
   "execution_count": 8,
   "id": "68e00990",
   "metadata": {},
   "outputs": [
    {
     "name": "stderr",
     "output_type": "stream",
     "text": [
      "[WDM] - \n",
      "\n",
      "[WDM] - ====== WebDriver manager ======\n",
      "[WDM] - Current google-chrome version is 97.0.4692\n",
      "[WDM] - Get LATEST driver version for 97.0.4692\n",
      "[WDM] - Driver [C:\\Users\\Admin\\.wdm\\drivers\\chromedriver\\win32\\97.0.4692.71\\chromedriver.exe] found in cache\n"
     ]
    }
   ],
   "source": [
    "from selenium import webdriver\n",
    "from webdriver_manager.chrome import ChromeDriverManager\n",
    "from selenium.webdriver.common.action_chains import ActionChains\n",
    "from selenium.webdriver.common.keys import Keys\n",
    "from selenium.common.exceptions import NoSuchElementException \n",
    "import json\n",
    "driver = webdriver.Chrome(ChromeDriverManager().install())\n",
    "start_url = \"https://www.iomfsa.im/enforcement/disqualified-directors/\"\n",
    "driver.get(start_url)\n",
    "elements = driver.find_elements_by_xpath(\"//section[@class='accordion-item']\")\n",
    "length = len(elements)\n",
    "list1 = []\n",
    "list2 = [\"Name\", \"Address\", \"Date of Birth\", \"Period of\", \"Dates of\"]\n",
    "for i in range(length):\n",
    "    a = ActionChains(driver)\n",
    "    a.click(elements[i]).perform()\n",
    "    data = elements[i].find_elements_by_xpath(\".//*\")\n",
    "\n",
    "    all_children_by_xpath = data[2].find_elements_by_xpath(\".//*\")\n",
    "    dict1 = dict()\n",
    "    \n",
    "    for j in range(0,len(all_children_by_xpath)):\n",
    "        for k in list2:\n",
    "            if k in all_children_by_xpath[j].text and (not all_children_by_xpath[j].text.strip().endswith(':')):\n",
    "                #print(all_children_by_xpath[j].text)\n",
    "                dict1[all_children_by_xpath[j].text.split(\":\")[0].strip()] = all_children_by_xpath[j].text.split(\":\")[1].strip()\n",
    "    list1.append(dict1)\n",
    "f = open(\"Disqualified Directors.json\",\"w\")\n",
    "f.write(json.dumps(list1,indent = 4))\n",
    "f.close()"
   ]
  },
  {
   "cell_type": "markdown",
   "id": "d5370ab8",
   "metadata": {},
   "source": [
    "# Scrap the data of whole website"
   ]
  },
  {
   "cell_type": "code",
   "execution_count": 7,
   "id": "cad9b03a",
   "metadata": {},
   "outputs": [
    {
     "name": "stderr",
     "output_type": "stream",
     "text": [
      "[WDM] - \n",
      "\n",
      "[WDM] - ====== WebDriver manager ======\n",
      "[WDM] - Current google-chrome version is 97.0.4692\n",
      "[WDM] - Get LATEST driver version for 97.0.4692\n",
      "[WDM] - Driver [C:\\Users\\Admin\\.wdm\\drivers\\chromedriver\\win32\\97.0.4692.71\\chromedriver.exe] found in cache\n"
     ]
    },
    {
     "name": "stdout",
     "output_type": "stream",
     "text": [
      "Disqualified Directors\n",
      "Disqualified Directors - Pre 18 June 2009\n",
      "For disqualifications post 18 June 2009 please see: Disqualified Company Officers Post 18 June 2009\n",
      "The Isle of Man Financial Services Authority ('the Authority') expects the highest standards of conduct from those involved in the corporate governance of companies. Where, prior to 18 June 2009, a person’s conduct indicated that they were potentially unfit to perform such a role, the Authority (then known as the Financial Supervision Commission) could petition the High Court of Justice of the Isle of Man under Section 26 of the Companies Act 1992 seeking disqualification of that person from acting as:\n",
      "a director of a company; or\n",
      "a secretary of a company; or\n",
      "a liquidator of a company; or\n",
      "a receiver or manager of a company's property; or\n",
      "in any way, whether directly or indirectly, being concerned or taking part in the promotion, formation or management of a company unless that person has the consent of the Court.\n",
      "Disqualification of persons for fraudulent trading.\n",
      "Prior to 18 June 2009, in cases where the High Court of Justice of the Isle of Man made a declaration under Section 259(1) of the Companies Act 1931 that any of the directors of a company, whether past or present, were knowing parties to the carrying on, by the company, of business with intent to defraud creditors of the company or creditors of any other person or for any fraudulent purpose, or, where a person was convicted by the High Court of Justice of the Isle of Man under Section 259(3) of the Companies Act 1931 of being as a director knowingly a party to the carrying on of the business in manner aforesaid the court could also under Section 259(4) of the Companies Act 1931 order that that person shall not, without the leave of the court, be a director of or in any way, whether directly or indirectly, be concerned in or take part in the management of a company for a period, not exceeding five years.\n",
      "Disqualification of directors of insolvent companies.\n",
      "Prior to 18 June 2009 in cases where a person was or had been the director of a company which had at any time gone into liquidation and was insolvent, and had been the director of another such company which went into liquidation within the previous 5 years, and the conduct of the person as director of any of those companies made him unfit to be concerned in the management of a company, the Authority could apply to the High Court of Justice of the Isle of Man under Section 31(1) of the Companies Act 1982 for an order that the person shall not, without the leave of the Court, be a director of or in any way, whether directly or indirectly, be concerned or take part in the management of a company for such period as the court may specify, beginning with the date of the order and not exceeding 5 years.\n",
      "With effect from 18 June 2009 the Company Officers (Disqualification) Act 2009 came into effect. This new Act replaced the above provisions, however, unexpired disqualifications under the above provisions were continued under the new Act. For details of the provisions of the Company Officers (Disqualification) Act 2009 please see: Disqualified company officers – Post 18 June 2009\n",
      "Disqualified Company Officers – Post 18 June 2009\n",
      "For disqualifications pre 18 June 2009 please see: Disqualified Directors pre 18 June 2009\n",
      "The Isle of Man Financial Services Authority expects the highest standards of conduct from those involved in the corporate governance of companies. Where a person’s conduct indicates that they are potentially unfit to perform such a role the Authority may petition the High Court of Justice of the Isle of Man under Section 3 (1) (a) of the Company Officers (Disqualification) Act 2009 seeking disqualification of that person from acting as:\n",
      "a director, secretary or registered agent;\n",
      "a liquidator;\n",
      "a receiver;\n",
      "a person holding an office under any relevant foreign law analogous to any of the offices specified in paragraph (a), (b) or (c) in respect of a company; or\n",
      "a person who, in any way, whether directly or indirectly, is concerned or takes part in the promotion, formation or management of a company.\n",
      "The period of disqualification can range from a minimum of 2 years to a maximum of 15 years.\n",
      "Disqualification Undertakings\n",
      "Section 6 of the Company Officers (Disqualification) Act 2009 permits the Authority where it appears to the Authority that:\n",
      "a person is or has been an officer of a company; and\n",
      "that the person’s conduct renders that person unfit to be an officer of a company; and\n",
      "the person has offered a disqualification undertaking\n",
      "to accept the undertaking if satisfied that it is expedient in the public interest that it should do so (instead of applying, or proceeding with an application, for a disqualification order).\n",
      "A disqualification undertaking has exactly the same effect as a disqualification order in terms of publicity and criminal sanctions for breach.\n",
      "An undertaking may be for a minimum period of 2 years and a maximum period of 15 years.\n",
      "Disqualification of persons for fraudulent trading\n",
      "In terms of Section 9 of the Company Officers (Disqualification) Act 2009, in cases where the High Court of Justice of the Isle of Man makes a declaration under Section 259 of the Companies Act 1931 (responsibility of directors for fraudulent trading) that a person is liable to make a contribution to a company’s assets, then, whether or not an application for such an order is made by any person, it shall consider making a disqualification order against the person. The maximum period of disqualification under Section 9 of the Company Officers (Disqualification) Act 2009 is 15 years.\n",
      "Disqualification of directors of insolvent companies\n",
      "In terms of Section 5 of the Company Officers (Disqualification) Act 2009, in cases where the High Court of Justice of the Isle of Man is satisfied that a person is or has been an officer of a company which has at any time become insolvent (whether while the person was an officer or subsequently), and that person’s conduct as an officer of that company (either taken alone or together with their conduct as an officer of any other company or companies) makes them unfit it must make a disqualification order against them. The maximum period of disqualification under this section is 15 years and the minimum is 2 years.\n",
      "Contravention of a Disqualification Order or Undertaking\n",
      "Section 11 of the Company Officers (Disqualification) Act 2009 sets out the consequences for a person who contravenes a disqualification order or a disqualification undertaking. If a person is convicted of such a breach then they are liable:\n",
      "(a) on conviction on information, to custody for not more than 2 years or a fine, or both; and\n",
      "(b) on summary conviction, to custody for not more than 6 months or a fine not exceeding £5,000, or both.\n",
      "Section 12 of the Company Officers (Disqualification) Act 2009 imposes personal liability for certain debts of a company upon a person who contravenes a disqualification order by acting as an officer of that company and upon any person who, as an officer of a company, acts or is willing to act on the instructions of the disqualified person, without the leave of the court.\n",
      "Information Leaflet – Effect of a disqualification.\n",
      "Disqualified Directors\n",
      "John Trevor Roche Baines\n",
      "Ralph Stephen Brunswick\n",
      "Fenella Jane Carter\n",
      "Richard Alan Costain\n",
      "Paul Deighton\n",
      "Jamie Alexander Irving\n",
      "Jonathan Frank Edward Irving\n",
      "Duncan Frank Ellis Jones\n",
      "Lynn Keig\n",
      "Richard Ian Kissack\n",
      "Alan Louis\n",
      "Phillip Sean McCarthy\n",
      "John McCauley\n",
      "Dirk Frederik Mudge\n",
      "Lukas Nakos\n",
      "Andrew Mark Rouse\n"
     ]
    }
   ],
   "source": [
    "from selenium import webdriver\n",
    "from webdriver_manager.chrome import ChromeDriverManager\n",
    "from selenium.webdriver.common.action_chains import ActionChains\n",
    "from selenium.webdriver.common.keys import Keys\n",
    "from selenium.common.exceptions import NoSuchElementException \n",
    "import json\n",
    "driver = webdriver.Chrome(ChromeDriverManager().install())\n",
    "start_url = \"https://www.iomfsa.im/enforcement/disqualified-directors/\"\n",
    "driver.get(start_url)\n",
    "elements1 = driver.find_elements_by_xpath(\"//div[@class='page-content']\")\n",
    "for i in elements1:\n",
    "    print(i.text.replace('\\n\\n\\n', ''))"
   ]
  },
  {
   "cell_type": "code",
   "execution_count": null,
   "id": "b1394a23",
   "metadata": {},
   "outputs": [],
   "source": []
  }
 ],
 "metadata": {
  "kernelspec": {
   "display_name": "Python 3",
   "language": "python",
   "name": "python3"
  },
  "language_info": {
   "codemirror_mode": {
    "name": "ipython",
    "version": 3
   },
   "file_extension": ".py",
   "mimetype": "text/x-python",
   "name": "python",
   "nbconvert_exporter": "python",
   "pygments_lexer": "ipython3",
   "version": "3.6.5"
  }
 },
 "nbformat": 4,
 "nbformat_minor": 5
}
